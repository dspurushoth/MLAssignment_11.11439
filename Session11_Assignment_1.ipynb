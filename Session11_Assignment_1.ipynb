{
 "cells": [
  {
   "cell_type": "markdown",
   "metadata": {},
   "source": [
    "<b>1.What are the three stages to build the hypotheses or model in machine learning?</b>"
   ]
  },
  {
   "cell_type": "markdown",
   "metadata": {},
   "source": [
    "<b>Answer </b>: Below are the 3 stages to build a Model in Machine Learning\n",
    "\n",
    "a) <b>Model Building:</b> It's also referred to as writing the algorithm which will perform over a set of outputs to give the desired output\n",
    "\n",
    "b)<b> Model Training:</b> The model has to be trained over a training dataset and specific parameters are chosen. The model is then applied to the dataset over those parameters.\n",
    "\n",
    "c) <b> Applying the model: </b>Apply the dataset over the test dataset to evaluate the performance of model"
   ]
  },
  {
   "cell_type": "markdown",
   "metadata": {},
   "source": [
    "<b>2.What is the standard approach to supervised learning?</b>"
   ]
  },
  {
   "cell_type": "markdown",
   "metadata": {},
   "source": [
    "<b> Answer:</b> Supervised learning is a type of machine learning algorithm that uses a known dataset (called the training dataset) to make predictions. The training dataset includes input data and response values.<br>\n",
    "The standard approach to supervised learning is to split the set of example into the training set and the test. Model once trained on trained data can be used to verify/predict the results on test data.\n"
   ]
  },
  {
   "cell_type": "markdown",
   "metadata": {},
   "source": [
    "<b>3.What is Training set and Test set?</b>"
   ]
  },
  {
   "cell_type": "markdown",
   "metadata": {},
   "source": [
    "<b>Answer:</b><br><b>Training Set:</b>In Machine Learning, a training set is a dataset used to train a model. In training the model, specific features\n",
    "are picked out from the training set. These features are then incorporated into the model. Thereby, if the\n",
    "training set is labeled correctly, the model should be able to learn something from these features.\n",
    "<br>\n",
    "<b>Test Set:</b>The test set is a dataset used to measure how well the model performs at making predictions on that test set.\n",
    "If the prediction scores for the test set are unreasonable, we’ll have to make some adjustments to our model\n",
    "and try again."
   ]
  },
  {
   "cell_type": "markdown",
   "metadata": {},
   "source": [
    "<b>4.What is the general principle of an ensemble method and what is bagging and\n",
    "boosting in ensemble method?</b>"
   ]
  },
  {
   "cell_type": "markdown",
   "metadata": {},
   "source": [
    "<b>Answer:</b><br>\n",
    "<b>Ensemble methods :</b> is a machine learning technique that combines several base models in order to produce one optimal predictive model. Ensemble is the art of combining diverse set of learners (individual models) together to improvise on the stability and predictive power of the model.\n",
    "<br>\n",
    "Here are the top 4 reasons for a model to be different. They can be different because of a mix of these factors as well:\n",
    "<br>\n",
    "1. Difference in population\n",
    "<br>\n",
    "2. Difference in hypothesis\n",
    "<br>\n",
    "3. Difference in modeling technique\n",
    "<br>\n",
    "4. Difference in initial seed\n",
    "<br>\n",
    "\n",
    "<b>Error in Ensemble Learning</b>\n",
    "<br>\n",
    "<b>Bias error</b> is useful to quantify how much on an average are the predicted values different from the actual value. A high bias error means we have a under-performing model which keeps on missing important trends.\n",
    "<br>\n",
    "\n",
    "<b>Variance</b> on the other side quantifies how are the prediction made on same observation different from each other. A high variance model will over-fit on your training population and perform badly on any observation beyond training. Following diagram will give you more clarity (Assume that red spot is the real value and blue dots are predictions) \n",
    "\n",
    "<br>\n",
    "<b> Bagging:</b> Bagging tries to implement similar learners on small sample populations and then takes a mean of all the predictions. In generalized bagging, you can use different learners on different population.  As you can expect this helps us to reduce the variance error.\n",
    "<br>\n",
    "\n",
    "<b>Boosing:</b>Boosting is an iterative technique which adjust the weight of an observation based on the last classification. If an observation was classified incorrectly, it tries to increase the weight of this observation and vice versa. Boosting in general decreases the bias error and builds strong predictive models. However, they may sometimes over fit on the training data.\n",
    "\n"
   ]
  },
  {
   "cell_type": "markdown",
   "metadata": {},
   "source": [
    "<b>5.How can you avoid overfitting ?</b>"
   ]
  },
  {
   "cell_type": "markdown",
   "metadata": {},
   "source": [
    "<b>Answer:</b>\n",
    "Following are the commonly used methodologies :\n",
    "\n",
    "<b>1.Cross-Validation :</b> Cross Validation in its simplest form is a one round validation, where we leave one sample as in-time validation and rest for training the model. But for keeping lower variance a higher fold cross validation is preferred.\n",
    "<br>\n",
    "\n",
    "<b>2.Early Stopping : </b>Early stopping rules provide guidance as to how many iterations can be run before the learner begins to over-fit.\n",
    "<br>\n",
    "\n",
    "<b>3.Pruning : </b>Pruning is used extensively while building CART models. It simply removes the nodes which add little predictive power for the problem in hand.\n",
    "<br>\n",
    "\n",
    "<b>4.Regularization :</b> It introduces a cost term for bringing in more features with the objective function. Hence, it tries to push the coefficients for many variables to zero and hence reduce cost term."
   ]
  },
  {
   "cell_type": "code",
   "execution_count": null,
   "metadata": {},
   "outputs": [],
   "source": []
  }
 ],
 "metadata": {
  "kernelspec": {
   "display_name": "Python 3",
   "language": "python",
   "name": "python3"
  },
  "language_info": {
   "codemirror_mode": {
    "name": "ipython",
    "version": 3
   },
   "file_extension": ".py",
   "mimetype": "text/x-python",
   "name": "python",
   "nbconvert_exporter": "python",
   "pygments_lexer": "ipython3",
   "version": "3.7.0"
  }
 },
 "nbformat": 4,
 "nbformat_minor": 2
}
